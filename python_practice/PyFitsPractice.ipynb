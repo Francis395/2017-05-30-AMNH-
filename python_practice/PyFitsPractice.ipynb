{
 "cells": [
  {
   "cell_type": "code",
   "execution_count": 27,
   "metadata": {
    "collapsed": true
   },
   "outputs": [],
   "source": [
    "import pyfits as pf\n",
    "import numpy as np"
   ]
  },
  {
   "cell_type": "markdown",
   "metadata": {},
   "source": [
    "Opening a .fits file"
   ]
  },
  {
   "cell_type": "code",
   "execution_count": 28,
   "metadata": {
    "collapsed": false
   },
   "outputs": [],
   "source": [
    "hdulist = pf.open('/Users/Francis/fermiTools/practiceFermiTools/3C279_binned_cmap_small.fits')"
   ]
  },
  {
   "cell_type": "code",
   "execution_count": 29,
   "metadata": {
    "collapsed": false
   },
   "outputs": [
    {
     "data": {
      "text/plain": [
       "<pyfits.hdu.table.BinTableHDU at 0x10ae81690>"
      ]
     },
     "execution_count": 29,
     "metadata": {},
     "output_type": "execute_result"
    }
   ],
   "source": [
    "hdulist[1]"
   ]
  },
  {
   "cell_type": "code",
   "execution_count": 30,
   "metadata": {
    "collapsed": false
   },
   "outputs": [
    {
     "name": "stdout",
     "output_type": "stream",
     "text": [
      "Filename: /Users/Francis/fermiTools/practiceFermiTools/3C279_binned_cmap_small.fits\n",
      "No.    Name         Type      Cards   Dimensions   Format\n",
      "0    PRIMARY     PrimaryHDU     127   (200, 200)   int32   \n",
      "1    GTI         BinTableHDU     48   12027R x 2C   [D, D]   \n"
     ]
    }
   ],
   "source": [
    "hdulist.info()"
   ]
  },
  {
   "cell_type": "code",
   "execution_count": 31,
   "metadata": {
    "collapsed": false
   },
   "outputs": [
    {
     "data": {
      "text/plain": [
       "'TT'"
      ]
     },
     "execution_count": 31,
     "metadata": {},
     "output_type": "execute_result"
    }
   ],
   "source": [
    "hdulist[0].header[27]"
   ]
  },
  {
   "cell_type": "code",
   "execution_count": 38,
   "metadata": {
    "collapsed": false
   },
   "outputs": [],
   "source": [
    "scidata = hdulist['GTI'].data"
   ]
  },
  {
   "cell_type": "code",
   "execution_count": 39,
   "metadata": {
    "collapsed": false
   },
   "outputs": [
    {
     "name": "stdout",
     "output_type": "stream",
     "text": [
      "[(239557417.49417615, 239558069.09306949)\n",
      " (239559567.98007262, 239563954.08429933)\n",
      " (239565647.9856663, 239569844.08451673) ...,\n",
      " (302564765.63283199, 302567515.085356)\n",
      " (302567528.63027132, 302570220.08546305) (302571570.63295758, 302572802.0)]\n"
     ]
    }
   ],
   "source": [
    "print scidata"
   ]
  },
  {
   "cell_type": "code",
   "execution_count": 42,
   "metadata": {
    "collapsed": false
   },
   "outputs": [
    {
     "data": {
      "text/plain": [
       "(12027,)"
      ]
     },
     "execution_count": 42,
     "metadata": {},
     "output_type": "execute_result"
    }
   ],
   "source": [
    "scidata.shape"
   ]
  },
  {
   "cell_type": "code",
   "execution_count": 47,
   "metadata": {
    "collapsed": false
   },
   "outputs": [
    {
     "data": {
      "text/plain": [
       "239558069.09306949"
      ]
     },
     "execution_count": 47,
     "metadata": {},
     "output_type": "execute_result"
    }
   ],
   "source": [
    "scidata[0][1]"
   ]
  },
  {
   "cell_type": "code",
   "execution_count": 48,
   "metadata": {
    "collapsed": true
   },
   "outputs": [],
   "source": [
    "data = hdulist[0].data"
   ]
  },
  {
   "cell_type": "code",
   "execution_count": 49,
   "metadata": {
    "collapsed": false
   },
   "outputs": [
    {
     "name": "stdout",
     "output_type": "stream",
     "text": [
      "[[16 23 21 ..., 13 14  6]\n",
      " [17 21 13 ..., 11 18 10]\n",
      " [11 18 19 ..., 14 10 17]\n",
      " ..., \n",
      " [12  9 11 ...,  7 12 15]\n",
      " [18 16 15 ..., 15 11 12]\n",
      " [17 16 19 ..., 11 13 13]]\n"
     ]
    }
   ],
   "source": [
    "print data"
   ]
  },
  {
   "cell_type": "code",
   "execution_count": 50,
   "metadata": {
    "collapsed": false
   },
   "outputs": [
    {
     "name": "stdout",
     "output_type": "stream",
     "text": [
      "[16 23 21 19 18 21 13 20 15 15 24 17 10 17 17 15 18 25 23 13 18 14  9 16 15\n",
      " 17 21 16 18 14 10 20 20 13 18 16 18 19 30 22 11 24 22 18 22 18 19 21 21 29\n",
      " 15 23 19 14 16 16 13 18 16 12 23 20 17 20 24 10 16 23 21 18 21 16 19 18 20\n",
      " 21 18 22 14 16 18 17 23 12 21 18 19 21 22 26 18 16 17 13 25 27 15 22 17 27\n",
      " 19 23 30 17 26 33 38 42 46 54 76 60 54 39 29 40 23 24 29 22 23 23 25 20 18\n",
      " 16 26 24 20 24 21 24 18 16 20 17 28 21 16 16 22 14 21 17 18 17 24 20 19 16\n",
      " 31 18 16 21 28 21 21 34 22 26 22 18 14 23 14 14 13 24 20 18 14 16 17 14 19\n",
      " 15 13 14 23 18 12 14 11 17 18 14 17  8 16 12 22 10 20 19 15 15 10 13 14  6]\n"
     ]
    }
   ],
   "source": [
    "print data[0]"
   ]
  },
  {
   "cell_type": "code",
   "execution_count": 51,
   "metadata": {
    "collapsed": false
   },
   "outputs": [
    {
     "name": "stdout",
     "output_type": "stream",
     "text": [
      "16\n"
     ]
    }
   ],
   "source": [
    "print data[0,0]"
   ]
  },
  {
   "cell_type": "code",
   "execution_count": 52,
   "metadata": {
    "collapsed": false
   },
   "outputs": [
    {
     "name": "stdout",
     "output_type": "stream",
     "text": [
      "14\n"
     ]
    }
   ],
   "source": [
    "print data[0,-2]"
   ]
  },
  {
   "cell_type": "code",
   "execution_count": 53,
   "metadata": {
    "collapsed": false
   },
   "outputs": [
    {
     "name": "stdout",
     "output_type": "stream",
     "text": [
      "[16 23 21 19 18 21 13 20 15 15 24]\n"
     ]
    }
   ],
   "source": [
    "print data[0,:11]"
   ]
  },
  {
   "cell_type": "code",
   "execution_count": 54,
   "metadata": {
    "collapsed": false
   },
   "outputs": [
    {
     "name": "stdout",
     "output_type": "stream",
     "text": [
      "[[16 23 21 19 18 21 13 20 15 15 24]\n",
      " [17 21 13 22 23 20 18 20 12 13 29]]\n"
     ]
    }
   ],
   "source": [
    "print data[:2,:11]"
   ]
  },
  {
   "cell_type": "code",
   "execution_count": null,
   "metadata": {
    "collapsed": true
   },
   "outputs": [],
   "source": []
  }
 ],
 "metadata": {
  "kernelspec": {
   "display_name": "Python 2",
   "language": "python",
   "name": "python2"
  },
  "language_info": {
   "codemirror_mode": {
    "name": "ipython",
    "version": 2
   },
   "file_extension": ".py",
   "mimetype": "text/x-python",
   "name": "python",
   "nbconvert_exporter": "python",
   "pygments_lexer": "ipython2",
   "version": "2.7.13"
  }
 },
 "nbformat": 4,
 "nbformat_minor": 2
}
